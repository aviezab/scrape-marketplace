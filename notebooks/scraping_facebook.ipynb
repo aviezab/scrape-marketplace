{
 "cells": [
  {
   "cell_type": "code",
   "execution_count": 1,
   "metadata": {},
   "outputs": [],
   "source": [
    "from selenium import webdriver\n",
    "from selenium.webdriver.common.keys import Keys\n",
    "import bs4\n",
    "from pprint import pprint\n",
    "import json"
   ]
  },
  {
   "cell_type": "code",
   "execution_count": 2,
   "metadata": {},
   "outputs": [],
   "source": [
    "#Initialization method. \n",
    "chrome_options = webdriver.ChromeOptions()\n",
    "\n",
    "# chrome_options.add_argument('--headless') #for pop up windows\n",
    "chrome_options.add_argument('--no-sandbox')\n",
    "chrome_options.add_argument('--disable-setuid-sandbox')"
   ]
  },
  {
   "cell_type": "code",
   "execution_count": 3,
   "metadata": {},
   "outputs": [],
   "source": [
    "# Open Browser\n",
    "driver = webdriver.Chrome(\"chromedriver\", options=chrome_options)"
   ]
  },
  {
   "cell_type": "code",
   "execution_count": 4,
   "metadata": {},
   "outputs": [],
   "source": [
    "#Akses Facebook dengan browser yang sudah dibuka\n",
    "akun_name = \"abddul.hamied\"\n",
    "base_url = 'https://www.facebook.com/{}/'.format(akun_name)\n",
    "driver.get(base_url)"
   ]
  },
  {
   "cell_type": "code",
   "execution_count": 5,
   "metadata": {},
   "outputs": [],
   "source": [
    "akun = bs4.BeautifulSoup(driver.page_source, 'lxml')\n",
    "driver.close()"
   ]
  },
  {
   "cell_type": "code",
   "execution_count": 12,
   "metadata": {},
   "outputs": [],
   "source": [
    "def parser_facebook_akun(post):\n",
    "    tab_nama = akun.find(\"a\", {\"class\":\"_2nlw _2nlv\"})\n",
    "    nama = tab_nama.text\n",
    "\n",
    "    tab_pekerjaan = akun.find(\"div\", {\"class\":\"_2lzr _50f5 _50f7\"})\n",
    "    pekerjaan = tab_pekerjaan.text\n",
    "\n",
    "    tab_pendidikan = akun.findAll(\"ul\", {\"class\":\"uiList fbProfileEditExperiences _4kg _4ks\"})[1].findAll(\"li\", {\"class\":\"_43c8 _5f6p fbEditProfileViewExperience experience\"})\n",
    "\n",
    "    sekolah = []\n",
    "    for pend in tab_pendidikan:\n",
    "        sekolah.append(pend.text)\n",
    "\n",
    "    tab_kota_sekarang = akun.findAll(\"ul\", {\"class\":\"uiList fbProfileEditExperiences _4kg _4ks\"})[2].find(\"li\", {\"id\":\"current_city\"}).find(\"span\", {\"class\":\"_2iel _50f7\"})\n",
    "    kota_sekarang = tab_kota_sekarang.text\n",
    "\n",
    "    tab_kota_asal = akun.findAll(\"ul\", {\"class\":\"uiList fbProfileEditExperiences _4kg _4ks\"})[2].find(\"li\", {\"id\":\"hometown\"}).find(\"span\", {\"class\":\"_2iel _50f7\"})\n",
    "    kota_asal = tab_kota_asal.text\n",
    "\n",
    "    tab_tentang = akun.findAll(\"ul\", {\"class\":\"uiList fbProfileEditExperiences _4kg _4ks\"})[3].find(\"span\", {\"class\":\"_c24 _2iem\"})\n",
    "    tentang = tab_tentang.text\n",
    "    dict_akun = {\"nama\":nama, \"pekerjaan\":pekerjaan, \"pendidikan\":sekolah, \n",
    "                 \"kota sekarang\":kota_sekarang, \"kota asal\":kota_asal, \"tentang\":tentang}\n",
    "    return dict_akun"
   ]
  },
  {
   "cell_type": "code",
   "execution_count": 13,
   "metadata": {},
   "outputs": [
    {
     "name": "stdout",
     "output_type": "stream",
     "text": [
      "<div class=\"_2lzr _50f5 _50f7\"><a href=\"https://www.facebook.com/pages/IPC-Indonesia-Port-Corporation-PT-Pelabuhan-Indonesia-II-Tanjung-Priok/296554983778005\">IPC (Indonesia Port Corporation) PT. Pelabuhan Indonesia II - Tanjung Priok</a></div>\n",
      "[<li class=\"_43c8 _5f6p fbEditProfileViewExperience experience\" id=\"u_0_h\"><div class=\"_2tdc\"><div class=\"clearfix\"><a aria-hidden=\"true\" class=\"_3-91 _8o lfloat _ohe\" href=\"https://www.facebook.com/appjakarta/\" tabindex=\"-1\"><img alt=\"\" class=\"img\" height=\"36\" src=\"https://scontent.fsub1-1.fna.fbcdn.net/v/t1.0-1/cp0/p40x40/38600119_1966219180095703_2967991996909617152_n.jpg?_nc_cat=103&amp;_nc_sid=dbb9e7&amp;_nc_ohc=CIFMgwXQUWwAX9ATVOh&amp;_nc_ht=scontent.fsub1-1.fna&amp;oh=5e2e35dd5a915c2c9e104151cad2e0da&amp;oe=5EF30C12\" width=\"36\"/></a><div class=\"_42ef\"><div class=\"_6a\"><div class=\"_6a _6b\" style=\"height:36px\"></div><div class=\"_6a _6b\"><div class=\"_2lzr _50f5 _50f7\"><a href=\"https://www.facebook.com/appjakarta/\">Akademi Pimpinan Perusahaan</a></div><div class=\"_173e _50f8 _2ieq\"><div class=\"fsm fwn fcg\">Angkatan 2015<span aria-hidden=\"true\" role=\"presentation\"> · </span>Manajemen SDM<span aria-hidden=\"true\" role=\"presentation\"> · </span>Jakarta</div></div><div class=\"_3-8w _50f8\">d-3 Manajemen Sumber Daya Manusia</div></div></div></div></div></div></li>, <li class=\"_43c8 _5f6p fbEditProfileViewExperience experience\" id=\"u_0_i\"><div class=\"_2tdc\"><div class=\"clearfix\"><a aria-hidden=\"true\" class=\"_3-91 _8o lfloat _ohe\" href=\"https://www.facebook.com/pages/APP-Akademi-Pimpinan-Perusahaan/111596432192119\" tabindex=\"-1\"><img alt=\"\" class=\"img\" height=\"36\" src=\"https://scontent.fsub1-2.fna.fbcdn.net/v/t1.0-1/cp0/c12.0.40.40a/p40x40/580846_10149999285985791_1565762244_n.png?_nc_cat=1&amp;_nc_sid=dbb9e7&amp;_nc_ohc=PWSgbG03Y-oAX-9BNgH&amp;_nc_ht=scontent.fsub1-2.fna&amp;oh=145c41c3ca1b6b449ceb2dd4983feec4&amp;oe=5EB73C99\" width=\"36\"/></a><div class=\"_42ef\"><div class=\"_6a\"><div class=\"_6a _6b\" style=\"height:36px\"></div><div class=\"_6a _6b\"><div class=\"_2lzr _50f5 _50f7\"><a href=\"https://www.facebook.com/pages/APP-Akademi-Pimpinan-Perusahaan/111596432192119\">APP (Akademi Pimpinan Perusahaan)</a></div><div class=\"_173e _50f8 _2ieq\"><div class=\"fsm fwn fcg\">Angkatan 2015<span aria-hidden=\"true\" role=\"presentation\"> · </span>Human resources<span aria-hidden=\"true\" role=\"presentation\"> · </span>Jakarta</div></div></div></div></div></div></div></li>, <li class=\"_43c8 _5f6p fbEditProfileViewExperience experience\" id=\"u_0_j\"><div class=\"_2tdc\"><div class=\"clearfix\"><a aria-hidden=\"true\" class=\"_3-91 _8o lfloat _ohe\" href=\"https://www.facebook.com/pages/SMA-Negeri-52-Jakarta/114610538551823\" tabindex=\"-1\"><img alt=\"\" class=\"img\" height=\"36\" src=\"https://scontent.fsub1-1.fna.fbcdn.net/v/t1.0-1/cp0/p40x40/1795746_585519318208322_1156119062_n.jpg?_nc_cat=105&amp;_nc_sid=dbb9e7&amp;_nc_ohc=ftU6iYIftB0AX_nOfmp&amp;_nc_ht=scontent.fsub1-1.fna&amp;oh=8fe3c410e29c84f3a131454759f8df00&amp;oe=5EF7D67C\" width=\"36\"/></a><div class=\"_42ef\"><div class=\"_6a\"><div class=\"_6a _6b\" style=\"height:36px\"></div><div class=\"_6a _6b\"><div class=\"_2lzr _50f5 _50f7\"><a href=\"https://www.facebook.com/pages/SMA-Negeri-52-Jakarta/114610538551823\">SMA Negeri 52 Jakarta</a></div><div class=\"_173e _50f8 _2ieq\"><div class=\"fsm fwn fcg\">Angkatan 2009<span aria-hidden=\"true\" role=\"presentation\"> · </span>Cilincing, Jawa Barat, Indonesia</div></div></div></div></div></div></div><div class=\"_5mqb\"><ul class=\"uiList uiCollapsedList uiCollapsedListHidden _4kg _6-h _6-j _4ks\" id=\"u_0_k\"><li><div class=\"clearfix _3_rd\"><img alt=\"\" class=\"_3-91 _8o lfloat _ohe img\" height=\"12\" src=\"https://static.xx.fbcdn.net/rsrc.php/v3/yG/r/zhhCyQHZgFM.png\" width=\"12\"/><div class=\"_42ef\"><div><div class=\"_2e3n\"><span class=\"_50f7\">XII IPS 4</span><span class=\"fsm fwn fcg\"></span></div></div></div></div></li><li><div class=\"clearfix _3_rd\"><img alt=\"\" class=\"_3-91 _8o lfloat _ohe img\" height=\"12\" src=\"https://static.xx.fbcdn.net/rsrc.php/v3/yG/r/zhhCyQHZgFM.png\" width=\"12\"/><div class=\"_42ef\"><div><div class=\"_2e3n\"><span class=\"_50f7\">ALUMNIE SMP NEGRI 173 JAKARTA UTARA</span><span class=\"fsm fwn fcg\"></span></div></div></div></div></li><li><div class=\"clearfix _3_rd\"><img alt=\"\" class=\"_3-91 _8o lfloat _ohe img\" height=\"12\" src=\"https://static.xx.fbcdn.net/rsrc.php/v3/yG/r/zhhCyQHZgFM.png\" width=\"12\"/><div class=\"_42ef\"><div><div class=\"_2e3n\"><span class=\"_50f7\">X-7</span><span class=\"fsm fwn fcg\"></span></div></div></div></div></li></ul></div></li>]\n"
     ]
    },
    {
     "data": {
      "text/plain": [
       "{'nama': 'Abbdul Hamid',\n",
       " 'pekerjaan': 'IPC (Indonesia Port Corporation) PT. Pelabuhan Indonesia II - Tanjung Priok',\n",
       " 'pendidikan': ['Akademi Pimpinan PerusahaanAngkatan 2015 · Manajemen SDM · Jakartad-3 Manajemen Sumber Daya Manusia',\n",
       "  'APP (Akademi Pimpinan Perusahaan)Angkatan 2015 · Human resources · Jakarta',\n",
       "  'SMA Negeri 52 JakartaAngkatan 2009 · Cilincing, Jawa Barat, IndonesiaXII IPS 4ALUMNIE SMP NEGRI 173 JAKARTA UTARAX-7'],\n",
       " 'kota sekarang': 'Jakarta',\n",
       " 'kota asal': 'Jakarta',\n",
       " 'tentang': 'jalanin hidup denagan apa adanya yg penting hdp ni jlnin dngn ikls am snyuman !!! dan membuat orang selalu untuk tersenyum :)'}"
      ]
     },
     "execution_count": 13,
     "metadata": {},
     "output_type": "execute_result"
    }
   ],
   "source": [
    "parser_facebook_akun(akun)"
   ]
  },
  {
   "cell_type": "code",
   "execution_count": null,
   "metadata": {},
   "outputs": [],
   "source": [
    "#Mendapatkan Info Lengkap dari Akun Tersebut\n",
    "tab_nama = akun.find(\"a\", {\"class\":\"_2nlw _2nlv\"})\n",
    "nama = tab_nama.text\n",
    "\n",
    "tab_pekerjaan = akun.find(\"div\", {\"class\":\"_2lzr _50f5 _50f7\"})\n",
    "pekerjaan = tab_pekerjaan.text\n",
    "\n",
    "tab_pendidikan = akun.findAll(\"ul\", {\"class\":\"uiList fbProfileEditExperiences _4kg _4ks\"})[1].findAll(\"li\", {\"class\":\"_43c8 _5f6p fbEditProfileViewExperience experience\"})\n",
    "sekolah = []\n",
    "for pend in pendidikan:\n",
    "    sekolah.append(pend.text)\n",
    "    \n",
    "tab_kota_sekarang = akun.findAll(\"ul\", {\"class\":\"uiList fbProfileEditExperiences _4kg _4ks\"})[2].find(\"li\", {\"id\":\"current_city\"}).find(\"span\", {\"class\":\"_2iel _50f7\"})\n",
    "kota_sekarang = tab_kota_sekarang.text\n",
    "\n",
    "tab_kota_asal = akun.findAll(\"ul\", {\"class\":\"uiList fbProfileEditExperiences _4kg _4ks\"})[2].find(\"li\", {\"id\":\"hometown\"}).find(\"span\", {\"class\":\"_2iel _50f7\"})\n",
    "kota_asal = tab_kota_asal.text\n",
    "+\n",
    "tab_tentang = akun.findAll(\"ul\", {\"class\":\"uiList fbProfileEditExperiences _4kg _4ks\"})[3].find(\"span\", {\"class\":\"_c24 _2iem\"})\n",
    "tentang = tab_tentang.text"
   ]
  },
  {
   "cell_type": "code",
   "execution_count": null,
   "metadata": {},
   "outputs": [],
   "source": [
    "dict_akun = {\"nama\":nama, \"pekerjaan\":pekerjaan, \"pendidikan\":sekolah, \n",
    "             \"kota sekarang\":kota_sekarang, \"kota asal\":kota_asal, \"tentang\":tentang}\n",
    "dict_akun"
   ]
  },
  {
   "cell_type": "code",
   "execution_count": null,
   "metadata": {},
   "outputs": [],
   "source": [
    "def saving_doc(clean_post,doc='txt'):\n",
    "    doc = doc.lower()\n",
    "    if doc == 'txt':\n",
    "        with open('data_clean.txt', 'w') as f:\n",
    "            print(clean_post, file=f)\n",
    "    elif doc == 'json':\n",
    "        doc = doc.upper()\n",
    "        with open('data_clean.JSON', 'w') as file:\n",
    "             file.write(json.dumps(clean_post))\n",
    "    else:\n",
    "        print('Unsupported document')      \n",
    "    print('Document succes saving as dataclean.{}'.format(doc))"
   ]
  },
  {
   "cell_type": "code",
   "execution_count": null,
   "metadata": {},
   "outputs": [],
   "source": [
    "saving_doc(dict_akun,doc='json')"
   ]
  },
  {
   "cell_type": "code",
   "execution_count": null,
   "metadata": {},
   "outputs": [],
   "source": []
  },
  {
   "cell_type": "code",
   "execution_count": null,
   "metadata": {},
   "outputs": [],
   "source": []
  }
 ],
 "metadata": {
  "kernelspec": {
   "display_name": "Python 3",
   "language": "python",
   "name": "python3"
  },
  "language_info": {
   "codemirror_mode": {
    "name": "ipython",
    "version": 3
   },
   "file_extension": ".py",
   "mimetype": "text/x-python",
   "name": "python",
   "nbconvert_exporter": "python",
   "pygments_lexer": "ipython3",
   "version": "3.6.10"
  }
 },
 "nbformat": 4,
 "nbformat_minor": 2
}
