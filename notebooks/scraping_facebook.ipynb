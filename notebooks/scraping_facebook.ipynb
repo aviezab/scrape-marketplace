{
 "cells": [
  {
   "cell_type": "code",
   "execution_count": 53,
   "metadata": {},
   "outputs": [],
   "source": [
    "from selenium import webdriver\n",
    "from selenium.webdriver.common.keys import Keys\n",
    "import bs4\n",
    "from pprint import pprint\n",
    "import json"
   ]
  },
  {
   "cell_type": "code",
   "execution_count": 54,
   "metadata": {},
   "outputs": [],
   "source": [
    "#Initialization method. \n",
    "chrome_options = webdriver.ChromeOptions()\n",
    "\n",
    "# chrome_options.add_argument('--headless') #for pop up windows\n",
    "chrome_options.add_argument('--no-sandbox')\n",
    "chrome_options.add_argument('--disable-setuid-sandbox')"
   ]
  },
  {
   "cell_type": "code",
   "execution_count": 60,
   "metadata": {},
   "outputs": [],
   "source": [
    "# Open Browser\n",
    "driver = webdriver.Chrome(\"chromedriver\", options=chrome_options)"
   ]
  },
  {
   "cell_type": "code",
   "execution_count": 56,
   "metadata": {},
   "outputs": [],
   "source": [
    "#Akses Facebook dengan browser yang sudah dibuka\n",
    "akun_name = \"abddul.hamied\"\n",
    "base_url = 'https://www.facebook.com/{}/'.format(akun_name)\n",
    "driver.get(base_url)"
   ]
  },
  {
   "cell_type": "code",
   "execution_count": 61,
   "metadata": {},
   "outputs": [],
   "source": [
    "akun = bs4.BeautifulSoup(driver.page_source, 'lxml')\n",
    "driver.close()"
   ]
  },
  {
   "cell_type": "code",
   "execution_count": 58,
   "metadata": {},
   "outputs": [],
   "source": [
    "def parser_facebook_akun(post):\n",
    "    tab_nama = akun.find(\"a\", {\"class\":\"_2nlw _2nlv\"})\n",
    "    nama = tab_nama.text\n",
    "\n",
    "    tab_pekerjaan = akun.find(\"div\", {\"class\":\"_2lzr _50f5 _50f7\"})\n",
    "    pekerjaan = tab_pekerjaan.text\n",
    "\n",
    "    tab_pendidikan = akun.findAll(\"ul\", {\"class\":\"uiList fbProfileEditExperiences _4kg _4ks\"})[1].findAll(\"li\", {\"class\":\"_43c8 _5f6p fbEditProfileViewExperience experience\"})\n",
    "    sekolah = []\n",
    "    for pend in pendidikan:\n",
    "        sekolah.append(pend.text)\n",
    "\n",
    "    tab_kota_sekarang = akun.findAll(\"ul\", {\"class\":\"uiList fbProfileEditExperiences _4kg _4ks\"})[2].find(\"li\", {\"id\":\"current_city\"}).find(\"span\", {\"class\":\"_2iel _50f7\"})\n",
    "    kota_sekarang = tab_kota_sekarang.text\n",
    "\n",
    "    tab_kota_asal = akun.findAll(\"ul\", {\"class\":\"uiList fbProfileEditExperiences _4kg _4ks\"})[2].find(\"li\", {\"id\":\"hometown\"}).find(\"span\", {\"class\":\"_2iel _50f7\"})\n",
    "    kota_asal = tab_kota_asal.text\n",
    "\n",
    "    tab_tentang = akun.findAll(\"ul\", {\"class\":\"uiList fbProfileEditExperiences _4kg _4ks\"})[3].find(\"span\", {\"class\":\"_c24 _2iem\"})\n",
    "    tentang = tab_tentang.text\n",
    "    dict_akun = {\"nama\":nama, \"pekerjaan\":pekerjaan, \"pendidikan\":sekolah, \n",
    "                 \"kota sekarang\":kota_sekarang, \"kota asal\":kota_asal, \"tentang\":tentang}\n",
    "    return dict_akun"
   ]
  },
  {
   "cell_type": "code",
   "execution_count": 59,
   "metadata": {},
   "outputs": [
    {
     "data": {
      "text/plain": [
       "{'nama': 'Abbdul Hamid',\n",
       " 'pekerjaan': 'IPC (Indonesia Port Corporation) PT. Pelabuhan Indonesia II - Tanjung Priok',\n",
       " 'pendidikan': ['Akademi Pimpinan PerusahaanAngkatan 2015 · Manajemen SDM · Jakartad-3 Manajemen Sumber Daya Manusia',\n",
       "  'APP (Akademi Pimpinan Perusahaan)Angkatan 2015 · Human resources · Jakarta',\n",
       "  'SMA Negeri 52 JakartaAngkatan 2009 · Cilincing, Jawa Barat, IndonesiaXII IPS 4ALUMNIE SMP NEGRI 173 JAKARTA UTARAX-7'],\n",
       " 'kota sekarang': 'Jakarta',\n",
       " 'kota asal': 'Jakarta',\n",
       " 'tentang': 'jalanin hidup denagan apa adanya yg penting hdp ni jlnin dngn ikls am snyuman !!! dan membuat orang selalu untuk tersenyum :)'}"
      ]
     },
     "execution_count": 59,
     "metadata": {},
     "output_type": "execute_result"
    }
   ],
   "source": [
    "parser_facebook_akun(akun)"
   ]
  },
  {
   "cell_type": "code",
   "execution_count": 47,
   "metadata": {},
   "outputs": [],
   "source": [
    "#Mendapatkan Info Lengkap dari Akun Tersebut\n",
    "tab_nama = akun.find(\"a\", {\"class\":\"_2nlw _2nlv\"})\n",
    "nama = tab_nama.text\n",
    "\n",
    "tab_pekerjaan = akun.find(\"div\", {\"class\":\"_2lzr _50f5 _50f7\"})\n",
    "pekerjaan = tab_pekerjaan.text\n",
    "\n",
    "tab_pendidikan = akun.findAll(\"ul\", {\"class\":\"uiList fbProfileEditExperiences _4kg _4ks\"})[1].findAll(\"li\", {\"class\":\"_43c8 _5f6p fbEditProfileViewExperience experience\"})\n",
    "sekolah = []\n",
    "for pend in pendidikan:\n",
    "    sekolah.append(pend.text)\n",
    "    \n",
    "tab_kota_sekarang = akun.findAll(\"ul\", {\"class\":\"uiList fbProfileEditExperiences _4kg _4ks\"})[2].find(\"li\", {\"id\":\"current_city\"}).find(\"span\", {\"class\":\"_2iel _50f7\"})\n",
    "kota_sekarang = tab_kota_sekarang.text\n",
    "\n",
    "tab_kota_asal = akun.findAll(\"ul\", {\"class\":\"uiList fbProfileEditExperiences _4kg _4ks\"})[2].find(\"li\", {\"id\":\"hometown\"}).find(\"span\", {\"class\":\"_2iel _50f7\"})\n",
    "kota_asal = tab_kota_asal.text\n",
    "\n",
    "tab_tentang = akun.findAll(\"ul\", {\"class\":\"uiList fbProfileEditExperiences _4kg _4ks\"})[3].find(\"span\", {\"class\":\"_c24 _2iem\"})\n",
    "tentang = tab_tentang.text"
   ]
  },
  {
   "cell_type": "code",
   "execution_count": 48,
   "metadata": {},
   "outputs": [
    {
     "data": {
      "text/plain": [
       "{'nama': 'Abbdul Hamid',\n",
       " 'pekerjaan': 'IPC (Indonesia Port Corporation) PT. Pelabuhan Indonesia II - Tanjung Priok',\n",
       " 'pendidikan': ['Akademi Pimpinan PerusahaanAngkatan 2015 · Manajemen SDM · Jakartad-3 Manajemen Sumber Daya Manusia',\n",
       "  'APP (Akademi Pimpinan Perusahaan)Angkatan 2015 · Human resources · Jakarta',\n",
       "  'SMA Negeri 52 JakartaAngkatan 2009 · Cilincing, Jawa Barat, IndonesiaXII IPS 4ALUMNIE SMP NEGRI 173 JAKARTA UTARAX-7'],\n",
       " 'kota sekarang': 'Jakarta',\n",
       " 'kota asal': 'Jakarta',\n",
       " 'tentang': 'jalanin hidup denagan apa adanya yg penting hdp ni jlnin dngn ikls am snyuman !!! dan membuat orang selalu untuk tersenyum :)'}"
      ]
     },
     "execution_count": 48,
     "metadata": {},
     "output_type": "execute_result"
    }
   ],
   "source": [
    "dict_akun = {\"nama\":nama, \"pekerjaan\":pekerjaan, \"pendidikan\":sekolah, \n",
    "             \"kota sekarang\":kota_sekarang, \"kota asal\":kota_asal, \"tentang\":tentang}\n",
    "dict_akun"
   ]
  },
  {
   "cell_type": "code",
   "execution_count": 50,
   "metadata": {},
   "outputs": [],
   "source": [
    "def saving_doc(clean_post,doc='txt'):\n",
    "    doc = doc.lower()\n",
    "    if doc == 'txt':\n",
    "        with open('data_clean.txt', 'w') as f:\n",
    "            print(clean_post, file=f)\n",
    "    elif doc == 'json':\n",
    "        doc = doc.upper()\n",
    "        with open('data_clean.JSON', 'w') as file:\n",
    "             file.write(json.dumps(clean_post))\n",
    "    else:\n",
    "        print('Unsupported document')      \n",
    "    print('Document succes saving as dataclean.{}'.format(doc))"
   ]
  },
  {
   "cell_type": "code",
   "execution_count": 51,
   "metadata": {},
   "outputs": [
    {
     "name": "stdout",
     "output_type": "stream",
     "text": [
      "Document succes saving as dataclean.JSON\n"
     ]
    }
   ],
   "source": [
    "saving_doc(dict_akun,doc='json')"
   ]
  },
  {
   "cell_type": "code",
   "execution_count": null,
   "metadata": {},
   "outputs": [],
   "source": []
  }
 ],
 "metadata": {
  "kernelspec": {
   "display_name": "Python 3",
   "language": "python",
   "name": "python3"
  },
  "language_info": {
   "codemirror_mode": {
    "name": "ipython",
    "version": 3
   },
   "file_extension": ".py",
   "mimetype": "text/x-python",
   "name": "python",
   "nbconvert_exporter": "python",
   "pygments_lexer": "ipython3",
   "version": "3.7.4"
  }
 },
 "nbformat": 4,
 "nbformat_minor": 2
}
