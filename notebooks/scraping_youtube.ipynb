{
 "cells": [
  {
   "cell_type": "code",
   "execution_count": 1,
   "metadata": {},
   "outputs": [],
   "source": [
    "import bs4\n",
    "from selenium import webdriver\n",
    "from selenium.webdriver.common.keys import Keys\n",
    "from pprint import pprint\n",
    "import json"
   ]
  },
  {
   "cell_type": "code",
   "execution_count": 2,
   "metadata": {},
   "outputs": [],
   "source": [
    "#Initialization method. \n",
    "chrome_options = webdriver.ChromeOptions()\n",
    "# myProxy = '175.106.17.62:47641'\n",
    "# chrome_options.add_argument('--proxy-server=%s' % myProxy) \n",
    "# chrome_options.add_argument('--headless') #for pop up windows\n",
    "chrome_options.add_argument('--no-sandbox')\n",
    "chrome_options.add_argument('--disable-setuid-sandbox')"
   ]
  },
  {
   "cell_type": "code",
   "execution_count": 3,
   "metadata": {},
   "outputs": [],
   "source": [
    "driver = webdriver.Chrome(options=chrome_options)"
   ]
  },
  {
   "cell_type": "code",
   "execution_count": 4,
   "metadata": {},
   "outputs": [],
   "source": [
    "link = 'https://www.youtube.com/feed/trending'\n",
    "driver.get(link)"
   ]
  },
  {
   "cell_type": "code",
   "execution_count": 6,
   "metadata": {},
   "outputs": [],
   "source": [
    "soup = bs4.BeautifulSoup(driver.page_source,'lxml')\n",
    "all_videos = soup.find_all(\"ytd-video-renderer\",{\"class\":\"style-scope ytd-expanded-shelf-contents-renderer\"})"
   ]
  },
  {
   "cell_type": "code",
   "execution_count": 7,
   "metadata": {},
   "outputs": [],
   "source": [
    "def parser_yt_trending(post):\n",
    "    link = post.find('a').get('href')\n",
    "    image = post.find('img').get('src')\n",
    "    deskripsi = all_videos[0].find('yt-formatted-string',{'id':'description-text'}).text\n",
    "    det_video_user = post.find('div',{'id':'meta'})\n",
    "    judul = det_video_user.find('a').get('title')\n",
    "    \n",
    "    video_det = det_video_user.findAll('span',{'class':'style-scope ytd-video-meta-block'})\n",
    "    viewers = video_det[0].text\n",
    "    time_upload = video_det[1].text\n",
    "    \n",
    "    return {'judul':judul,'link':link, 'image':image,\n",
    "           'deskripsi':deskripsi.replace('\\n','') ,'viewers':viewers,\n",
    "           'time':time_upload}"
   ]
  },
  {
   "cell_type": "code",
   "execution_count": 8,
   "metadata": {},
   "outputs": [],
   "source": [
    "clean_post = []\n",
    "for post in all_videos:\n",
    "    clean_post.append( parser_yt_trending(post))"
   ]
  },
  {
   "cell_type": "code",
   "execution_count": 11,
   "metadata": {},
   "outputs": [
    {
     "name": "stdout",
     "output_type": "stream",
     "text": [
      "{'deskripsi': '#STARPRO #STARUPDATE #ASHRAFSINCLAIRBunga Citra Lestari masih '\n",
      "              'belum menyangka jika suami tercintanya pergi begitu cepat dan '\n",
      "              'mendadak. Ia hanya meminta doa kepada semua orang yang '\n",
      "              'mencintai...',\n",
      " 'image': 'https://i.ytimg.com/vi/MBc31YhLgnQ/hqdefault.jpg?sqp=-oaymwEZCPYBEIoBSFXyq4qpAwsIARUAAIhCGAFwAQ==&rs=AOn4CLBk09VLfYqMQGQzsHMheazdmgH9MQ',\n",
      " 'judul': 'FULL!! WAJAH KETEGARAN BUNGA CITRA LESTARI DAN AYAHANDA ASHRAF '\n",
      "          'SINCLAIR - STAR UPDATE 18/02',\n",
      " 'link': '/watch?v=MBc31YhLgnQ',\n",
      " 'time': '20 hours ago',\n",
      " 'viewers': '1M views'}\n"
     ]
    }
   ],
   "source": [
    "from pprint import pprint \n",
    "pprint(clean_post[0])"
   ]
  },
  {
   "cell_type": "code",
   "execution_count": 12,
   "metadata": {},
   "outputs": [],
   "source": [
    "def saving_doc(clean_post,doc='txt'):\n",
    "    doc = doc.lower()\n",
    "    if doc == 'txt':\n",
    "        with open('data_clean.txt', 'w') as f:\n",
    "            print(clean_post, file=f)\n",
    "    elif doc == 'json':\n",
    "        doc = doc.upper()\n",
    "        with open('data_clean.JSON', 'w') as file:\n",
    "             file.write(json.dumps(clean_post))\n",
    "    else:\n",
    "        print('Unsupported document')      \n",
    "    print('Document succes saving as dataclean.{}'.format(doc))"
   ]
  },
  {
   "cell_type": "code",
   "execution_count": 14,
   "metadata": {},
   "outputs": [
    {
     "name": "stdout",
     "output_type": "stream",
     "text": [
      "Document succes saving as dataclean.txt\n"
     ]
    }
   ],
   "source": [
    "saving_doc(clean_post,doc='txt')"
   ]
  },
  {
   "cell_type": "code",
   "execution_count": null,
   "metadata": {},
   "outputs": [],
   "source": []
  }
 ],
 "metadata": {
  "kernelspec": {
   "display_name": "Python 3",
   "language": "python",
   "name": "python3"
  },
  "language_info": {
   "codemirror_mode": {
    "name": "ipython",
    "version": 3
   },
   "file_extension": ".py",
   "mimetype": "text/x-python",
   "name": "python",
   "nbconvert_exporter": "python",
   "pygments_lexer": "ipython3",
   "version": "3.6.8"
  },
  "toc": {
   "base_numbering": 1,
   "nav_menu": {},
   "number_sections": true,
   "sideBar": true,
   "skip_h1_title": false,
   "title_cell": "Table of Contents",
   "title_sidebar": "Contents",
   "toc_cell": false,
   "toc_position": {},
   "toc_section_display": true,
   "toc_window_display": false
  },
  "varInspector": {
   "cols": {
    "lenName": 16,
    "lenType": 16,
    "lenVar": 40
   },
   "kernels_config": {
    "python": {
     "delete_cmd_postfix": "",
     "delete_cmd_prefix": "del ",
     "library": "var_list.py",
     "varRefreshCmd": "print(var_dic_list())"
    },
    "r": {
     "delete_cmd_postfix": ") ",
     "delete_cmd_prefix": "rm(",
     "library": "var_list.r",
     "varRefreshCmd": "cat(var_dic_list()) "
    }
   },
   "types_to_exclude": [
    "module",
    "function",
    "builtin_function_or_method",
    "instance",
    "_Feature"
   ],
   "window_display": false
  }
 },
 "nbformat": 4,
 "nbformat_minor": 2
}
