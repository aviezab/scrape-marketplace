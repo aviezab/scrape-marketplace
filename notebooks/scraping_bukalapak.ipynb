{
 "cells": [
  {
   "cell_type": "code",
   "execution_count": 28,
   "metadata": {},
   "outputs": [],
   "source": [
    "import bs4\n",
    "from selenium import webdriver\n",
    "from selenium.webdriver.common.keys import Keys\n",
    "from pprint import pprint\n",
    "import json"
   ]
  },
  {
   "cell_type": "code",
   "execution_count": 2,
   "metadata": {},
   "outputs": [],
   "source": [
    "#Initialization method. \n",
    "chrome_options = webdriver.ChromeOptions()\n",
    "# myProxy = '175.106.17.62:47641'\n",
    "# chrome_options.add_argument('--proxy-server=%s' % myProxy) \n",
    "# chrome_options.add_argument('--headless') #for pop up windows\n",
    "chrome_options.add_argument('--no-sandbox')\n",
    "chrome_options.add_argument('--disable-setuid-sandbox')"
   ]
  },
  {
   "cell_type": "code",
   "execution_count": null,
   "metadata": {},
   "outputs": [],
   "source": [
    "driver = webdriver.Chrome(options=chrome_options)"
   ]
  },
  {
   "cell_type": "code",
   "execution_count": 4,
   "metadata": {},
   "outputs": [],
   "source": [
    "katagori = 'handphone'\n",
    "driver.get('https://www.bukalapak.com/c/{}/').format(katagori)"
   ]
  },
  {
   "cell_type": "code",
   "execution_count": 11,
   "metadata": {},
   "outputs": [],
   "source": [
    "soup = bs4.BeautifulSoup(driver.page_source,'lxml')\n",
    "all_produk = soup.find_all(\"li\",\"product--sem col-12--2\")"
   ]
  },
  {
   "cell_type": "code",
   "execution_count": 38,
   "metadata": {},
   "outputs": [],
   "source": [
    "def parser_bukalapak(item):\n",
    "    nama = item.find('a','product__name line-clamp--2 js-tracker-product-link qa-list').get_text()\n",
    "    harga = item.find(\"span\",\"amount positive\").get_text()\n",
    "    produk_rating = item.find(\"span\",\"rating__star js-rating-star\")\n",
    "    try:\n",
    "        produk_rate = float(produk_rating.text)\n",
    "    except:\n",
    "        produk_rate = 0\n",
    "        \n",
    "    produk_link = item.find(\"a\").get('href') \n",
    "    \n",
    "    detail_user = item.find('div',{'class':'product-seller'})\n",
    "    user = detail_user.find('h5',{'class':'user__name'}).text\n",
    "    user_link = detail_user.find('a').get('href')\n",
    "    user_city =  detail_user.find('div',{'class':'user-city'}).text\n",
    "    user_feedback = detail_user.find('a',{'class':'user-feedback-summary'}).text\n",
    "    user_badge = detail_user.find('div',{'class':'user-level-badge'}).text\n",
    "    \n",
    "    dict_hsl = {'nama':nama, 'harga':harga, 'rating_produk':produk_rate,\n",
    "                'link_produk':produk_link, 'seller':user.replace('\\n',''), \n",
    "                'seller_link': 'www.bukalapak.com{}'.format(user_link),\n",
    "                'seller_city': user_city.replace('\\n',''), 'seller_feedback': user_feedback,\n",
    "                'seller_badge': user_badge}\n",
    "    \n",
    "    return dict_hsl"
   ]
  },
  {
   "cell_type": "code",
   "execution_count": 39,
   "metadata": {},
   "outputs": [],
   "source": [
    "clean_post = []\n",
    "for item in all_produk:\n",
    "    clean_post.append(parser_bukalapak(item))"
   ]
  },
  {
   "cell_type": "code",
   "execution_count": 40,
   "metadata": {},
   "outputs": [
    {
     "data": {
      "text/plain": [
       "[{'nama': 'PREMIUM TEMPERED GLASS 3D Xiaomi Mi Mix 2 Full Layar.Anti Gores Kaca. Pelindung Layar - Mocolo Atau Kingkong Mix2 High Quality',\n",
       "  'harga': '80.000',\n",
       "  'rating_produk': 4.8,\n",
       "  'link_produk': 'https://www.bukalapak.com/p/handphone/aksesoris-handphone/screen-guard/cccot8-jual-premium-tempered-glass-3d-xiaomi-mi-mix-2-full-layar-anti-gores-kaca-pelindung-layar-mocolo-atau-kingkong-mix2-high-quality?dtm_section=top_promoted&dtm_source=list-product&from=&product_owner=normal_seller',\n",
       "  'seller': 'MS CELL',\n",
       "  'seller_link': 'www.bukalapak.com/u/serbameriah',\n",
       "  'seller_city': 'Serang',\n",
       "  'seller_feedback': '98% (26687 feedback)',\n",
       "  'seller_badge': 'Recommended Seller'},\n",
       " {'nama': 'VIVO S1 PRO RAM 8GB INTERNAL 128GB GARANSI RESMI INDONESIA',\n",
       "  'harga': '2.950.000',\n",
       "  'rating_produk': 0,\n",
       "  'link_produk': 'https://www.bukalapak.com/p/handphone/hp-smartphone/2t7hikw-jual-vivo-s1-pro-ram-8gb-internal-128gb-garansi-resmi-indonesia?dtm_section=top_promoted&dtm_source=list-product&from=&product_owner=normal_seller',\n",
       "  'seller': 'Alvian Shop',\n",
       "  'seller_link': 'www.bukalapak.com/u/muh_andrian66',\n",
       "  'seller_city': 'Karawang',\n",
       "  'seller_feedback': '100% (13 feedback)',\n",
       "  'seller_badge': 'Pedagang'},\n",
       " {'nama': 'REALME 5 PRO RAM 8GB INTERNAL 128GB GARANSI RESMI INDONESIA',\n",
       "  'harga': '2.700.000',\n",
       "  'rating_produk': 5.0,\n",
       "  'link_produk': 'https://www.bukalapak.com/p/handphone/hp-smartphone/2u1aats-jual-realme-5-pro-ram-8gb-internal-128gb-garansi-resmi-indonesia?dtm_section=top_promoted&dtm_source=list-product&from=&product_owner=normal_seller',\n",
       "  'seller': 'Alvian Shop',\n",
       "  'seller_link': 'www.bukalapak.com/u/muh_andrian66',\n",
       "  'seller_city': 'Karawang',\n",
       "  'seller_feedback': '100% (13 feedback)',\n",
       "  'seller_badge': 'Pedagang'},\n",
       " {'nama': 'REALME X2 PRO RAM 12GB INTERNAL 256GB GARANSI RESMI INDONESIA',\n",
       "  'harga': '6.500.000',\n",
       "  'rating_produk': 5.0,\n",
       "  'link_produk': 'https://www.bukalapak.com/p/handphone/hp-smartphone/2u1aqo7-jual-realme-x2-pro-ram-12gb-internal-256gb-garansi-resmi-indonesia?dtm_section=top_promoted&dtm_source=list-product&from=&product_owner=normal_seller',\n",
       "  'seller': 'Alvian Shop',\n",
       "  'seller_link': 'www.bukalapak.com/u/muh_andrian66',\n",
       "  'seller_city': 'Karawang',\n",
       "  'seller_feedback': '100% (13 feedback)',\n",
       "  'seller_badge': 'Pedagang'},\n",
       " {'nama': 'VIVO V17 PRO RAM 8GB INTERNAL 128GB GARANSI RESMI INDONESIA',\n",
       "  'harga': '3.700.000',\n",
       "  'rating_produk': 5.0,\n",
       "  'link_produk': 'https://www.bukalapak.com/p/handphone/hp-smartphone/2u1b7hh-jual-vivo-v17-pro-ram-8gb-internal-128gb-garansi-resmi-indonesia?dtm_section=top_promoted&dtm_source=list-product&from=&product_owner=normal_seller',\n",
       "  'seller': 'Alvian Shop',\n",
       "  'seller_link': 'www.bukalapak.com/u/muh_andrian66',\n",
       "  'seller_city': 'Karawang',\n",
       "  'seller_feedback': '100% (13 feedback)',\n",
       "  'seller_badge': 'Pedagang'},\n",
       " {'nama': 'REALME XT RAM 8GB INTERNAL 128GB GARANSI RESMI INDONESIA',\n",
       "  'harga': '3.200.000',\n",
       "  'rating_produk': 5.0,\n",
       "  'link_produk': 'https://www.bukalapak.com/p/handphone/hp-smartphone/2u1c2s0-jual-realme-xt-ram-8gb-internal-128gb-garansi-resmi-indonesia?dtm_section=top_promoted&dtm_source=list-product&from=&product_owner=normal_seller',\n",
       "  'seller': 'Alvian Shop',\n",
       "  'seller_link': 'www.bukalapak.com/u/muh_andrian66',\n",
       "  'seller_city': 'Karawang',\n",
       "  'seller_feedback': '100% (13 feedback)',\n",
       "  'seller_badge': 'Pedagang'},\n",
       " {'nama': 'XIAOMI MI 9T PRO RAM 8GB INTERNAL 256GB GARANSI RESMI INDONESIA',\n",
       "  'harga': '6.550.000',\n",
       "  'rating_produk': 5.0,\n",
       "  'link_produk': 'https://www.bukalapak.com/p/handphone/hp-smartphone/2u1ciu2-jual-xiaomi-mi-9t-pro-ram-8gb-internal-256gb-garansi-resmi-indonesia?dtm_section=top_promoted&dtm_source=list-product&from=&product_owner=normal_seller',\n",
       "  'seller': 'Alvian Shop',\n",
       "  'seller_link': 'www.bukalapak.com/u/muh_andrian66',\n",
       "  'seller_city': 'Karawang',\n",
       "  'seller_feedback': '100% (13 feedback)',\n",
       "  'seller_badge': 'Pedagang'},\n",
       " {'nama': 'XIAOMI MI NOTE 10 PRO RAM 8GB INTERNAL 256GB GARANSI RESMI INDONESIA',\n",
       "  'harga': '6.750.000',\n",
       "  'rating_produk': 5.0,\n",
       "  'link_produk': 'https://www.bukalapak.com/p/handphone/hp-smartphone/2u1cuov-jual-xiaomi-mi-note-10-pro-ram-8gb-internal-256gb-garansi-resmi-indonesia?dtm_section=top_promoted&dtm_source=list-product&from=&product_owner=normal_seller',\n",
       "  'seller': 'Alvian Shop',\n",
       "  'seller_link': 'www.bukalapak.com/u/muh_andrian66',\n",
       "  'seller_city': 'Karawang',\n",
       "  'seller_feedback': '100% (13 feedback)',\n",
       "  'seller_badge': 'Pedagang'},\n",
       " {'nama': 'PREMIUM TEMPERED GLASS 3D Xiaomi Mi Mix 3 Full Layar. 3D 5D. Anti Gores Kaca. Pelindung Layar - Bukan Mocolo Atau Kingkong Mix3 High Quality',\n",
       "  'harga': '85.000',\n",
       "  'rating_produk': 4.7,\n",
       "  'link_produk': 'https://www.bukalapak.com/p/handphone/aksesoris-handphone/screen-guard/10y9h53-jual-premium-tempered-glass-3d-xiaomi-mi-mix-3-full-layar-3d-5d-anti-gores-kaca-pelindung-layar-bukan-mocolo-atau-kingkong-mix3-high-quality?dtm_section=top_promoted&dtm_source=list-product&from=&product_owner=normal_seller',\n",
       "  'seller': 'MS CELL',\n",
       "  'seller_link': 'www.bukalapak.com/u/serbameriah',\n",
       "  'seller_city': 'Serang',\n",
       "  'seller_feedback': '98% (26687 feedback)',\n",
       "  'seller_badge': 'Recommended Seller'},\n",
       " {'nama': 'Headset Bluetooth Plextone BX338 Earphone Headphone Handsfree Wireless',\n",
       "  'harga': '300.000',\n",
       "  'rating_produk': 4.9,\n",
       "  'link_produk': 'https://www.bukalapak.com/p/handphone/headset-earphone/o1j56p-jual-headset-bluetooth-plextone-bx338-earphone-headphone-handsfree-wireless?dtm_section=top_promoted&dtm_source=list-product&from=&product_owner=normal_seller',\n",
       "  'seller': 'Diharta Store',\n",
       "  'seller_link': 'www.bukalapak.com/u/diharta',\n",
       "  'seller_city': 'Semarang',\n",
       "  'seller_feedback': '100% (6996 feedback)',\n",
       "  'seller_badge': 'Good Seller'}]"
      ]
     },
     "execution_count": 40,
     "metadata": {},
     "output_type": "execute_result"
    }
   ],
   "source": [
    "clean_post"
   ]
  },
  {
   "cell_type": "code",
   "execution_count": 41,
   "metadata": {},
   "outputs": [],
   "source": [
    "def saving_doc(clean_post,doc='txt'):\n",
    "    doc = doc.lower()\n",
    "    if doc == 'txt':\n",
    "        with open('data_clean.txt', 'w') as f:\n",
    "            print(clean_post, file=f)\n",
    "    elif doc == 'json':\n",
    "        doc = doc.upper()\n",
    "        with open('data_clean.JSON', 'w') as file:\n",
    "             file.write(json.dumps(clean_post))\n",
    "    else:\n",
    "        print('Unsupported document')      \n",
    "    print('Document succes saving as dataclean.{}'.format(doc))"
   ]
  },
  {
   "cell_type": "code",
   "execution_count": 42,
   "metadata": {},
   "outputs": [
    {
     "name": "stdout",
     "output_type": "stream",
     "text": [
      "Document succes saving as dataclean.JSON\n"
     ]
    }
   ],
   "source": [
    "saving_doc(clean_post,doc='json')"
   ]
  },
  {
   "cell_type": "code",
   "execution_count": null,
   "metadata": {},
   "outputs": [],
   "source": []
  }
 ],
 "metadata": {
  "kernelspec": {
   "display_name": "Python 3",
   "language": "python",
   "name": "python3"
  },
  "language_info": {
   "codemirror_mode": {
    "name": "ipython",
    "version": 3
   },
   "file_extension": ".py",
   "mimetype": "text/x-python",
   "name": "python",
   "nbconvert_exporter": "python",
   "pygments_lexer": "ipython3",
   "version": "3.6.8"
  }
 },
 "nbformat": 4,
 "nbformat_minor": 2
}
