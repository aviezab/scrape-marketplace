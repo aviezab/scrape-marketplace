{
 "cells": [
  {
   "cell_type": "code",
   "execution_count": 1,
   "metadata": {},
   "outputs": [],
   "source": [
    "from selenium import webdriver\n",
    "from selenium.webdriver.common.keys import Keys\n",
    "import bs4\n",
    "from pprint import pprint\n",
    "import json"
   ]
  },
  {
   "cell_type": "code",
   "execution_count": 2,
   "metadata": {},
   "outputs": [],
   "source": [
    "#Initialization method. \n",
    "chrome_options = webdriver.ChromeOptions()\n",
    "\n",
    "# chrome_options.add_argument('--headless') #for pop up windows\n",
    "chrome_options.add_argument('--no-sandbox')\n",
    "chrome_options.add_argument('--disable-setuid-sandbox')"
   ]
  },
  {
   "cell_type": "code",
   "execution_count": 3,
   "metadata": {},
   "outputs": [],
   "source": [
    "# Open Browser\n",
    "driver = webdriver.Chrome(options=chrome_options)"
   ]
  },
  {
   "cell_type": "code",
   "execution_count": 4,
   "metadata": {},
   "outputs": [],
   "source": [
    "katagori = 'fashion-pria'"
   ]
  },
  {
   "cell_type": "code",
   "execution_count": 5,
   "metadata": {},
   "outputs": [],
   "source": [
    "#Akses Tokopedia dengan browser yang sudah dibuka\n",
    "base_url = 'https://www.tokopedia.com/p/{}'.format(katagori)\n",
    "driver.get(base_url)"
   ]
  },
  {
   "cell_type": "code",
   "execution_count": 6,
   "metadata": {},
   "outputs": [],
   "source": [
    "#Mengambil pagesorce didalam website dan menutup browser (Scrapping Data)\n",
    "soup = bs4.BeautifulSoup(driver.page_source,'lxml')\n",
    "driver.close()"
   ]
  },
  {
   "cell_type": "code",
   "execution_count": 7,
   "metadata": {},
   "outputs": [],
   "source": [
    "#Mengambil seluruh RAW Post\n",
    "allpost = soup.findAll('div',{'class':'css-bk6tzz e1nlzfl3'})"
   ]
  },
  {
   "cell_type": "code",
   "execution_count": 8,
   "metadata": {},
   "outputs": [],
   "source": [
    "def parser_post(post):\n",
    "    disp_star = 0\n",
    "    star = 0\n",
    "    \n",
    "    link = post.find('a').get('href')\n",
    "    img_src = post.find('img').get('src')\n",
    "    det_prod = post.find('div',{'class':'css-11s9vse'})\n",
    "    nama = det_prod.find('span',{'class':'css-1tu1s3r'}).text\n",
    "    harga = det_prod.find('span',{'class':'css-o5uqvq'}).text\n",
    "    reputation = det_prod.find('div',{'class':'css-f70okh'})\n",
    "    try:\n",
    "        star_disp = reputation.findAll('img')\n",
    "        for a_start in star_disp:\n",
    "            if a_start.get('alt') == 'star':\n",
    "                disp_star = disp_star + 1\n",
    "        star = reputation.find('span').text.replace('(','')\n",
    "        star = star.replace(')','')\n",
    "    except:\n",
    "        print('No Rating')\n",
    "        pass\n",
    "    \n",
    "    dict_post = {'nama_product':nama, 'link':link,\n",
    "                'img':img_src, 'harga':harga,\n",
    "                'reputation':{'disp_star':disp_star, 'n_rating':star}\n",
    "                }\n",
    "    return(dict_post)"
   ]
  },
  {
   "cell_type": "code",
   "execution_count": 9,
   "metadata": {},
   "outputs": [
    {
     "name": "stdout",
     "output_type": "stream",
     "text": [
      "No Rating\n",
      "No Rating\n",
      "No Rating\n",
      "No Rating\n",
      "No Rating\n",
      "No Rating\n",
      "No Rating\n",
      "No Rating\n",
      "No Rating\n"
     ]
    }
   ],
   "source": [
    "clean_post = []\n",
    "for post in allpost:\n",
    "    clean_post.append(parser_post(post))"
   ]
  },
  {
   "cell_type": "code",
   "execution_count": 10,
   "metadata": {},
   "outputs": [
    {
     "name": "stdout",
     "output_type": "stream",
     "text": [
      "{'harga': 'Rp 120.000',\n",
      " 'img': 'https://ecs7.tokopedia.net/img/cache/200-square/product-1/2019/11/1/6615916/6615916_50907202-fb3f-407a-b269-a83df773b447_1200_1200.webp',\n",
      " 'link': 'https://www.tokopedia.com/goldenarmy/premium-export-quality-kaos-kerah-polo-polo-shirt-twotone-biru-s?trkid=f%3DCa0000L000P0W0S0Sh%2CCo0Po0Fr0Cb0_src%3Dmarketing-campaign_page%3D1_ob%3D23_q%3D_po%3D1_catid%3D1809&whid=0',\n",
      " 'nama_product': 'PREMIUM EXPORT QUALITY Kaos Kerah Polo / Polo Shirt Twotone '\n",
      "                 '- Biru, S',\n",
      " 'reputation': {'disp_star': 0, 'n_rating': 0}}\n"
     ]
    }
   ],
   "source": [
    "pprint(clean_post[0])"
   ]
  },
  {
   "cell_type": "code",
   "execution_count": 11,
   "metadata": {},
   "outputs": [],
   "source": [
    "def saving_doc(clean_post,doc='txt'):\n",
    "    doc = doc.lower()\n",
    "    if doc == 'txt':\n",
    "        with open('data_clean.txt', 'w') as f:\n",
    "            print(clean_post, file=f)\n",
    "    elif doc == 'json':\n",
    "        doc = doc.upper()\n",
    "        with open('data_clean.JSON', 'w') as file:\n",
    "             file.write(json.dumps(clean_post))\n",
    "    else:\n",
    "        print('Unsupported document')      \n",
    "    print('Document succes saving as dataclean.{}'.format(doc))"
   ]
  },
  {
   "cell_type": "code",
   "execution_count": 12,
   "metadata": {},
   "outputs": [
    {
     "name": "stdout",
     "output_type": "stream",
     "text": [
      "Document succes saving as dataclean.JSON\n"
     ]
    }
   ],
   "source": [
    "saving_doc(clean_post,doc='json')"
   ]
  },
  {
   "cell_type": "code",
   "execution_count": null,
   "metadata": {},
   "outputs": [],
   "source": []
  }
 ],
 "metadata": {
  "kernelspec": {
   "display_name": "Python 3",
   "language": "python",
   "name": "python3"
  },
  "language_info": {
   "codemirror_mode": {
    "name": "ipython",
    "version": 3
   },
   "file_extension": ".py",
   "mimetype": "text/x-python",
   "name": "python",
   "nbconvert_exporter": "python",
   "pygments_lexer": "ipython3",
   "version": "3.7.4"
  }
 },
 "nbformat": 4,
 "nbformat_minor": 2
}
